{
 "cells": [
  {
   "cell_type": "code",
   "execution_count": null,
   "id": "6ec15e1d",
   "metadata": {},
   "outputs": [],
   "source": [
    "chips=20\n",
    "juice=30\n",
    "cake=15\n",
    "budget=100\n",
    "total= \"chips+juice+cake\"#total is 65\n",
    "print(\"comparison: budget is more than the total\")\n",
    "money_left=\"budget-total\"#money left is 35\n",
    "print(\"money left:\", money_left)"
   ]
  }
 ],
 "metadata": {
  "language_info": {
   "name": "python"
  }
 },
 "nbformat": 4,
 "nbformat_minor": 5
}
